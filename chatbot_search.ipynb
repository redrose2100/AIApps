{
 "cells": [
  {
   "cell_type": "code",
   "execution_count": 4,
   "id": "568e0704-51c0-4207-abaa-60d633df1cf7",
   "metadata": {},
   "outputs": [
    {
     "name": "stdout",
     "output_type": "stream",
     "text": [
      "Running on local URL:  http://127.0.0.1:7872\n",
      "\n",
      "To create a public link, set `share=True` in `launch()`.\n"
     ]
    },
    {
     "data": {
      "text/html": [
       "<div><iframe src=\"http://127.0.0.1:7872/\" width=\"100%\" height=\"500\" allow=\"autoplay; camera; microphone; clipboard-read; clipboard-write;\" frameborder=\"0\" allowfullscreen></iframe></div>"
      ],
      "text/plain": [
       "<IPython.core.display.HTML object>"
      ]
     },
     "metadata": {},
     "output_type": "display_data"
    },
    {
     "data": {
      "text/plain": []
     },
     "execution_count": 4,
     "metadata": {},
     "output_type": "execute_result"
    },
    {
     "name": "stdout",
     "output_type": "stream",
     "text": [
      "\n",
      "\n",
      "\u001b[1m> Entering new AgentExecutor chain...\u001b[0m\n",
      "\u001b[32;1m\u001b[1;3mThought: Do I need to use a tool? No\n",
      "AI: Hello! How can I assist you today?\u001b[0m\n",
      "\n",
      "\u001b[1m> Finished chain.\u001b[0m\n",
      "\n",
      "\n",
      "\u001b[1m> Entering new AgentExecutor chain...\u001b[0m\n",
      "\u001b[32;1m\u001b[1;3mThought: Do I need to use a tool? No\n",
      "AI: My name is Assistant. How can I help you today?\u001b[0m\n",
      "\n",
      "\u001b[1m> Finished chain.\u001b[0m\n"
     ]
    }
   ],
   "source": [
    "import gradio as gr\n",
    "import random\n",
    "import time\n",
    "from langchain.memory import ConversationBufferMemory\n",
    "from langchain.llms import OpenAI\n",
    "import os\n",
    "from langchain.llms import AzureOpenAI\n",
    "from langchain.chat_models import AzureChatOpenAI\n",
    "from langchain.schema import HumanMessage\n",
    "from dotenv import load_dotenv\n",
    "load_dotenv(\"en.env\")\n",
    "from langchain.utilities import BingSearchAPIWrapper\n",
    "from langchain.agents import Tool\n",
    "from langchain.agents import AgentType\n",
    "from langchain.agents import initialize_agent\n",
    "\n",
    "BASE_URL = os.environ.get('OPENAI_API_BASE')\n",
    "API_KEY = os.environ.get('OPENAI_API_KEY')\n",
    "Version = os.environ.get('OPENAI_API_VERSION')\n",
    "DEPLOYMENT_NAME = \"chatgpt0301\"\n",
    "\n",
    "\n",
    "\n",
    "with gr.Blocks() as demo:\n",
    "    chatbot = gr.Chatbot()\n",
    "    msg = gr.Textbox()\n",
    "    clear = gr.Button(\"Clear\")\n",
    "    search = BingSearchAPIWrapper()\n",
    "    tools = [\n",
    "        Tool(\n",
    "            name = \"Current Search\",\n",
    "            func=search.run,\n",
    "            description=\"useful for when you need to answer questions about current events or the current state of the world\"\n",
    "        ),\n",
    "    ]\n",
    "\n",
    "    def user(user_message, history):\n",
    "        return \"\", history + [[user_message, None]]\n",
    "\n",
    "    def bot(history):\n",
    "        \n",
    "        llm = AzureChatOpenAI(\n",
    "            temperature=0,\n",
    "            model_name=\"gpt-35-turbo\",\n",
    "            openai_api_base=BASE_URL,\n",
    "            openai_api_version=\"2023-03-15-preview\",\n",
    "            deployment_name=\"chatgpt0301\",\n",
    "            openai_api_key=API_KEY,\n",
    "            openai_api_type = \"azure\",\n",
    "            \n",
    "        )\n",
    "        '''\n",
    "        llm=AzureOpenAI(temperature=0,deployment_name=\"davinci003\", model_name=\"text-davinci-003\")\n",
    "        '''\n",
    "        #llm=OpenAI(temperature=0)\n",
    "        memory = ConversationBufferMemory(memory_key=\"chat_history\")\n",
    "        for i in history[0:-1]:\n",
    "            memory.save_context({\"input\": i[0]}, {\"output\": i[1]})\n",
    "        agent_chain = initialize_agent(tools, llm, agent=AgentType.CONVERSATIONAL_REACT_DESCRIPTION, verbose=True, memory=memory,handle_parsing_errors=True)\n",
    "        \n",
    "        bot_message=agent_chain.run(history[-1][0])\n",
    "        #print(bot_message)\n",
    "        history[-1][1] = \"\"\n",
    "        \n",
    "        for character in bot_message:\n",
    "            history[-1][1] += character\n",
    "            #time.sleep(0.05)\n",
    "            yield history\n",
    "        \n",
    "\n",
    "    msg.submit(user, [msg, chatbot], [msg, chatbot], queue=False).then(\n",
    "        bot, chatbot, chatbot\n",
    "    )\n",
    "    clear.click(lambda: None, None, chatbot, queue=False)\n",
    "\n",
    "demo.queue()\n",
    "demo.launch()\n"
   ]
  },
  {
   "cell_type": "code",
   "execution_count": null,
   "id": "a87a20a3-4d84-461d-af11-ff8bdb3070f2",
   "metadata": {},
   "outputs": [],
   "source": []
  }
 ],
 "metadata": {
  "kernelspec": {
   "display_name": "Python 3 (ipykernel)",
   "language": "python",
   "name": "python3"
  },
  "language_info": {
   "codemirror_mode": {
    "name": "ipython",
    "version": 3
   },
   "file_extension": ".py",
   "mimetype": "text/x-python",
   "name": "python",
   "nbconvert_exporter": "python",
   "pygments_lexer": "ipython3",
   "version": "3.10.11"
  }
 },
 "nbformat": 4,
 "nbformat_minor": 5
}
