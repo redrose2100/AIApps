{
 "cells": [
  {
   "cell_type": "code",
   "execution_count": 4,
   "id": "9b3dccbd-5350-4378-8399-f3260efac89e",
   "metadata": {},
   "outputs": [
    {
     "name": "stdout",
     "output_type": "stream",
     "text": [
      "Loaded as API: https://gradio-client-demos-text-to-image.hf.space ✔\n",
      "Loaded as API: https://microsoft-promptist.hf.space ✔\n",
      "Running on local URL:  http://127.0.0.1:7919\n",
      "\n",
      "To create a public link, set `share=True` in `launch()`.\n"
     ]
    },
    {
     "data": {
      "text/html": [
       "<div><iframe src=\"http://127.0.0.1:7919/\" width=\"100%\" height=\"500\" allow=\"autoplay; camera; microphone; clipboard-read; clipboard-write;\" frameborder=\"0\" allowfullscreen></iframe></div>"
      ],
      "text/plain": [
       "<IPython.core.display.HTML object>"
      ]
     },
     "metadata": {},
     "output_type": "display_data"
    },
    {
     "data": {
      "text/plain": []
     },
     "execution_count": 4,
     "metadata": {},
     "output_type": "execute_result"
    },
    {
     "name": "stdout",
     "output_type": "stream",
     "text": [
      "\n",
      "\n",
      "\u001b[1m> Entering new AgentExecutor chain...\u001b[0m\n",
      "\u001b[32;1m\u001b[1;3m{\n",
      "    \"action\": \"Final Answer\",\n",
      "    \"action_input\": \"Hello! How can I assist you today?\"\n",
      "}\u001b[0m\n",
      "\n",
      "\u001b[1m> Finished chain.\u001b[0m\n"
     ]
    }
   ],
   "source": [
    "import gradio as gr\n",
    "import random\n",
    "import time\n",
    "from langchain.memory import ConversationBufferMemory\n",
    "from langchain.llms import OpenAI\n",
    "import os\n",
    "import re\n",
    "from langchain.llms import AzureOpenAI\n",
    "from langchain.chat_models import AzureChatOpenAI\n",
    "from langchain.schema import HumanMessage\n",
    "from dotenv import load_dotenv\n",
    "load_dotenv(\"en.env\")\n",
    "from langchain.utilities import BingSearchAPIWrapper\n",
    "from langchain.agents import Tool\n",
    "from langchain.agents import AgentType\n",
    "from langchain.agents import initialize_agent\n",
    "from gradio_tools import (StableDiffusionTool, ImageCaptioningTool, StableDiffusionPromptGeneratorTool,\n",
    "                          TextToVideoTool)\n",
    "\n",
    "\n",
    "BASE_URL = os.environ.get('OPENAI_API_BASE')\n",
    "API_KEY = os.environ.get('OPENAI_API_KEY')\n",
    "Version = os.environ.get('OPENAI_API_VERSION')\n",
    "DEPLOYMENT_NAME = \"chatgpt0301\"\n",
    "\n",
    "\n",
    "\n",
    "\n",
    "with gr.Blocks(css=customCSS) as demo:\n",
    "    chatbot = gr.Chatbot().style(height=\"100%\")\n",
    "    msg = gr.Textbox()\n",
    "    clear = gr.Button(\"Clear\")\n",
    "    search = BingSearchAPIWrapper()\n",
    "    tools = [StableDiffusionTool().langchain,StableDiffusionPromptGeneratorTool().langchain]\n",
    "    '''\n",
    "    tools = [\n",
    "        Tool(\n",
    "            name = \"Current Search\",\n",
    "            func=search.run,\n",
    "            description=\"useful for when you need to answer questions about current events or the current state of the world\"\n",
    "        ),\n",
    "    ]\n",
    "    '''\n",
    "    def user(user_message, history):\n",
    "        return \"\", history + [[user_message, None]]\n",
    "\n",
    "    def bot(history):\n",
    "        llm = AzureChatOpenAI(\n",
    "            temperature=0,\n",
    "            model_name=\"gpt-35-turbo\",\n",
    "            openai_api_base=BASE_URL,\n",
    "            openai_api_version=\"2023-03-15-preview\",\n",
    "            deployment_name=\"chatgpt0301\",\n",
    "            openai_api_key=API_KEY,\n",
    "            openai_api_type = \"azure\",\n",
    "            \n",
    "        )\n",
    "        '''\n",
    "        llm=AzureOpenAI(temperature=0,deployment_name=\"davinci003\", model_name=\"text-davinci-003\")\n",
    "        '''\n",
    "        #llm=OpenAI(temperature=0)\n",
    "        memory = ConversationBufferMemory(memory_key=\"chat_history\", return_messages=True)\n",
    "        for i in history[0:-1]:\n",
    "            memory.save_context({\"input\": i[0]}, {\"output\": ''.join(i[1])})\n",
    "        #tools = [StableDiffusionTool().langchain, ImageCaptioningTool().langchain,StableDiffusionPromptGeneratorTool().langchain, TextToVideoTool().langchain]\n",
    "        \n",
    "\n",
    "\n",
    "        agent = initialize_agent(tools, llm, memory=memory, agent=AgentType.CHAT_CONVERSATIONAL_REACT_DESCRIPTION, verbose=True)\n",
    "        bot_message = agent.run(history[-1][0])\n",
    "        '''\n",
    "        \"Please create a photo of a dog riding a skateboard \"\n",
    "                                  \"but improve my prompt prior to using an image generator.\"\n",
    "        '''\n",
    "        #bot_message=agent_chain.run(history[-1][0])\n",
    "        #print(bot_message)\n",
    "        history[-1][1] = \"\"\n",
    "        \n",
    "        isPic = re.search(r'(/[^\"]+png)', str(bot_message))\n",
    "        if isPic:\n",
    "            print(isPic.group(1))\n",
    "            history[-1][1] = (isPic.group(1),\" \"+bot_message)\n",
    "            yield history\n",
    "        else:\n",
    "            for character in bot_message:\n",
    "                history[-1][1] += character\n",
    "                #time.sleep(0.05)\n",
    "                yield history\n",
    "\n",
    "    msg.submit(user, [msg, chatbot], [msg, chatbot], queue=False).then(\n",
    "        bot, chatbot, chatbot\n",
    "    )\n",
    "    clear.click(lambda: None, None, chatbot, queue=False)\n",
    "\n",
    "demo.queue()\n",
    "demo.launch()\n"
   ]
  },
  {
   "cell_type": "code",
   "execution_count": null,
   "id": "eea278f2-80fe-49a7-9beb-f4b9120ed423",
   "metadata": {},
   "outputs": [],
   "source": []
  }
 ],
 "metadata": {
  "kernelspec": {
   "display_name": "Python 3 (ipykernel)",
   "language": "python",
   "name": "python3"
  },
  "language_info": {
   "codemirror_mode": {
    "name": "ipython",
    "version": 3
   },
   "file_extension": ".py",
   "mimetype": "text/x-python",
   "name": "python",
   "nbconvert_exporter": "python",
   "pygments_lexer": "ipython3",
   "version": "3.10.11"
  }
 },
 "nbformat": 4,
 "nbformat_minor": 5
}
