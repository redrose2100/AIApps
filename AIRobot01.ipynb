{
 "cells": [
  {
   "cell_type": "code",
   "execution_count": 42,
   "id": "05c28588-ae93-4118-bebb-0e46a991bd0e",
   "metadata": {},
   "outputs": [
    {
     "name": "stdout",
     "output_type": "stream",
     "text": [
      "\n",
      "\n",
      "\u001b[1m> Entering new ConversationChain chain...\u001b[0m\n",
      "Prompt after formatting:\n",
      "\u001b[32;1m\u001b[1;3mThe following is a friendly conversation between a human and an AI. The AI is talkative and provides lots of specific details from its context. If the AI does not know the answer to a question, it truthfully says it does not know.\n",
      "\n",
      "Current conversation:\n",
      "[]\n",
      "Human: Hi, what's your name?\n",
      "AI:\u001b[0m\n",
      "\n",
      "\u001b[1m> Finished chain.\u001b[0m\n"
     ]
    },
    {
     "data": {
      "text/plain": [
       "\"Hello! My name is OpenAI. I'm an artificial intelligence designed to assist with various tasks and answer questions. How can I help you today?\""
      ]
     },
     "execution_count": 42,
     "metadata": {},
     "output_type": "execute_result"
    }
   ],
   "source": [
    "from langchain.memory import ConversationTokenBufferMemory\n",
    "from langchain.llms import OpenAI\n",
    "import os\n",
    "from langchain.llms import AzureOpenAI\n",
    "from langchain.chat_models import AzureChatOpenAI\n",
    "from langchain.schema import HumanMessage\n",
    "from langchain.memory import ConversationSummaryBufferMemory\n",
    "from dotenv import load_dotenv\n",
    "load_dotenv(\"en.env\")\n",
    "\n",
    "\n",
    "BASE_URL = os.environ.get('OPENAI_API_BASE')\n",
    "API_KEY = os.environ.get('OPENAI_API_KEY')\n",
    "Version = os.environ.get('OPENAI_API_VERSION')\n",
    "DEPLOYMENT_NAME = \"chatgpt0301\"\n",
    "#chatgpt\n",
    "llm = AzureChatOpenAI(\n",
    "    temperature=0,\n",
    "    model_name=\"gpt-35-turbo\",\n",
    "    openai_api_base=BASE_URL,\n",
    "    openai_api_version=\"2023-03-15-preview\",\n",
    "    deployment_name=\"chatgpt0301\",\n",
    "    openai_api_key=API_KEY,\n",
    "    openai_api_type = \"azure\",\n",
    ")\n",
    "#gpt3\n",
    "llm2=AzureOpenAI(temperature=0,deployment_name=\"davinci003\", model_name=\"text-davinci-003\")\n",
    "\n",
    "memory = ConversationSummaryBufferMemory(llm=llm2, max_token_limit=1000, return_messages=True)\n",
    "#memory = ConversationBufferMemory()\n",
    "from langchain.chains import ConversationChain\n",
    "conversation_with_summary = ConversationChain(\n",
    "    llm=llm, \n",
    "    # We set a very low max_token_limit for the purposes of testing.\n",
    "    memory=memory,\n",
    "    verbose=True\n",
    ")\n",
    "conversation_with_summary.predict(input=\"Hi, what's your name?\")"
   ]
  },
  {
   "cell_type": "code",
   "execution_count": 23,
   "id": "8f524ac1-6855-4401-a012-ef503e4a1432",
   "metadata": {},
   "outputs": [
    {
     "name": "stdout",
     "output_type": "stream",
     "text": [
      "\n",
      "\n",
      "\u001b[1m> Entering new ConversationChain chain...\u001b[0m\n",
      "Prompt after formatting:\n",
      "\u001b[32;1m\u001b[1;3mThe following is a friendly conversation between a human and an AI. The AI is talkative and provides lots of specific details from its context. If the AI does not know the answer to a question, it truthfully says it does not know.\n",
      "\n",
      "Current conversation:\n",
      "Human: Hi, what's your name?\n",
      "AI: Hello! My name is OpenAI. I'm an artificial intelligence designed to assist with various tasks and answer questions to the best of my ability. How can I assist you today?\n",
      "Human: Hi, what's your name?\n",
      "AI:\u001b[0m\n",
      "\n",
      "\u001b[1m> Finished chain.\u001b[0m\n"
     ]
    },
    {
     "data": {
      "text/plain": [
       "'As I mentioned earlier, my name is OpenAI. Is there anything else I can help you with?'"
      ]
     },
     "execution_count": 23,
     "metadata": {},
     "output_type": "execute_result"
    }
   ],
   "source": [
    "conversation_with_summary.predict(input=\"Hi, what's your name?\")"
   ]
  },
  {
   "cell_type": "code",
   "execution_count": 43,
   "id": "4a05999f-8f34-4abc-b9c8-189859ecb052",
   "metadata": {},
   "outputs": [
    {
     "name": "stdout",
     "output_type": "stream",
     "text": [
      "Running on local URL:  http://127.0.0.1:7868\n",
      "\n",
      "To create a public link, set `share=True` in `launch()`.\n"
     ]
    },
    {
     "data": {
      "text/html": [
       "<div><iframe src=\"http://127.0.0.1:7868/\" width=\"100%\" height=\"500\" allow=\"autoplay; camera; microphone; clipboard-read; clipboard-write;\" frameborder=\"0\" allowfullscreen></iframe></div>"
      ],
      "text/plain": [
       "<IPython.core.display.HTML object>"
      ]
     },
     "metadata": {},
     "output_type": "display_data"
    },
    {
     "data": {
      "text/plain": []
     },
     "execution_count": 43,
     "metadata": {},
     "output_type": "execute_result"
    },
    {
     "name": "stdout",
     "output_type": "stream",
     "text": [
      "\n",
      "\n",
      "\u001b[1m> Entering new ConversationChain chain...\u001b[0m\n",
      "Prompt after formatting:\n",
      "\u001b[32;1m\u001b[1;3mThe following is a friendly conversation between a human and an AI. The AI is talkative and provides lots of specific details from its context. If the AI does not know the answer to a question, it truthfully says it does not know.\n",
      "\n",
      "Current conversation:\n",
      "[]\n",
      "Human: hi\n",
      "AI:\u001b[0m\n",
      "\n",
      "\u001b[1m> Finished chain.\u001b[0m\n",
      "\n",
      "\n",
      "\u001b[1m> Entering new ConversationChain chain...\u001b[0m\n",
      "Prompt after formatting:\n",
      "\u001b[32;1m\u001b[1;3mThe following is a friendly conversation between a human and an AI. The AI is talkative and provides lots of specific details from its context. If the AI does not know the answer to a question, it truthfully says it does not know.\n",
      "\n",
      "Current conversation:\n",
      "[]\n",
      "Human: 你好\n",
      "AI:\u001b[0m\n",
      "\n",
      "\u001b[1m> Finished chain.\u001b[0m\n",
      "\n",
      "\n",
      "\u001b[1m> Entering new ConversationChain chain...\u001b[0m\n",
      "Prompt after formatting:\n",
      "\u001b[32;1m\u001b[1;3mThe following is a friendly conversation between a human and an AI. The AI is talkative and provides lots of specific details from its context. If the AI does not know the answer to a question, it truthfully says it does not know.\n",
      "\n",
      "Current conversation:\n",
      "[HumanMessage(content='你好', additional_kwargs={}), AIMessage(content='你好！很高兴见到你！我是一个智能AI，我可以回答你的问题，或者我们可以聊聊天？', additional_kwargs={})]\n",
      "Human: 你知道LangChain吗？\n",
      "AI:\u001b[0m\n",
      "\n",
      "\u001b[1m> Finished chain.\u001b[0m\n",
      "\n",
      "\n",
      "\u001b[1m> Entering new ConversationChain chain...\u001b[0m\n",
      "Prompt after formatting:\n",
      "\u001b[32;1m\u001b[1;3mThe following is a friendly conversation between a human and an AI. The AI is talkative and provides lots of specific details from its context. If the AI does not know the answer to a question, it truthfully says it does not know.\n",
      "\n",
      "Current conversation:\n",
      "[HumanMessage(content='你好', additional_kwargs={}), AIMessage(content='你好！很高兴见到你！我是一个智能AI，我可以回答你的问题，或者我们可以聊聊天？', additional_kwargs={}), HumanMessage(content='你知道LangChain吗？', additional_kwargs={}), AIMessage(content='是的，我知道LangChain。它是一个基于区块链的语言学习平台，旨在帮助用户更好地学习外语。它提供了一系列的语言学习工具，包括语法、发音和词汇学习。', additional_kwargs={})]\n",
      "Human: 你会写python吗？\n",
      "AI:\u001b[0m\n",
      "\n",
      "\u001b[1m> Finished chain.\u001b[0m\n",
      "\n",
      "\n",
      "\u001b[1m> Entering new ConversationChain chain...\u001b[0m\n",
      "Prompt after formatting:\n",
      "\u001b[32;1m\u001b[1;3mThe following is a friendly conversation between a human and an AI. The AI is talkative and provides lots of specific details from its context. If the AI does not know the answer to a question, it truthfully says it does not know.\n",
      "\n",
      "Current conversation:\n",
      "[HumanMessage(content='你好', additional_kwargs={}), AIMessage(content='你好！很高兴见到你！我是一个智能AI，我可以回答你的问题，或者我们可以聊聊天？', additional_kwargs={}), HumanMessage(content='你知道LangChain吗？', additional_kwargs={}), AIMessage(content='是的，我知道LangChain。它是一个基于区块链的语言学习平台，旨在帮助用户更好地学习外语。它提供了一系列的语言学习工具，包括语法、发音和词汇学习。', additional_kwargs={}), HumanMessage(content='你会写python吗？', additional_kwargs={}), AIMessage(content='是的，我会写python。我可以编写python代码来实现各种功能，比如自动化任务、数据处理和机器学习等。', additional_kwargs={})]\n",
      "Human: 写个最简单的例子吧\n",
      "AI:\u001b[0m\n",
      "\n",
      "\u001b[1m> Finished chain.\u001b[0m\n",
      "\n",
      "\n",
      "\u001b[1m> Entering new ConversationChain chain...\u001b[0m\n",
      "Prompt after formatting:\n",
      "\u001b[32;1m\u001b[1;3mThe following is a friendly conversation between a human and an AI. The AI is talkative and provides lots of specific details from its context. If the AI does not know the answer to a question, it truthfully says it does not know.\n",
      "\n",
      "Current conversation:\n",
      "[HumanMessage(content='你好', additional_kwargs={}), AIMessage(content='你好！很高兴见到你！我是一个智能AI，我可以回答你的问题，或者我们可以聊聊天？', additional_kwargs={}), HumanMessage(content='你知道LangChain吗？', additional_kwargs={}), AIMessage(content='是的，我知道LangChain。它是一个基于区块链的语言学习平台，旨在帮助用户更好地学习外语。它提供了一系列的语言学习工具，包括语法、发音和词汇学习。', additional_kwargs={}), HumanMessage(content='你会写python吗？', additional_kwargs={}), AIMessage(content='是的，我会写python。我可以编写python代码来实现各种功能，比如自动化任务、数据处理和机器学习等。', additional_kwargs={}), HumanMessage(content='写个最简单的例子吧', additional_kwargs={}), AIMessage(content='好的，我可以给你一个最简单的python程序的例子。这是一个打印“Hello World”的程序：\\n\\nprint(\"Hello World\")', additional_kwargs={})]\n",
      "Human: 你会唱歌吗？\n",
      "AI:\u001b[0m\n",
      "\n",
      "\u001b[1m> Finished chain.\u001b[0m\n"
     ]
    }
   ],
   "source": [
    "import gradio as gr\n",
    "import random\n",
    "import time\n",
    "from langchain.memory import ConversationTokenBufferMemory\n",
    "from langchain.llms import OpenAI\n",
    "import os\n",
    "from langchain.llms import AzureOpenAI\n",
    "from langchain.chat_models import AzureChatOpenAI\n",
    "from langchain.schema import HumanMessage\n",
    "from dotenv import load_dotenv\n",
    "load_dotenv(\"en.env\")\n",
    "\n",
    "\n",
    "BASE_URL = os.environ.get('OPENAI_API_BASE')\n",
    "API_KEY = os.environ.get('OPENAI_API_KEY')\n",
    "Version = os.environ.get('OPENAI_API_VERSION')\n",
    "DEPLOYMENT_NAME = \"chatgpt0301\"\n",
    "\n",
    "\n",
    "\n",
    "with gr.Blocks() as demo:\n",
    "    chatbot = gr.Chatbot(label=\"AI\")\n",
    "    msg = gr.Textbox(label=\"You:\")\n",
    "    clear = gr.Button(\"Clear\")\n",
    "\n",
    "    def respond(message, chat_history):\n",
    "        llm = AzureChatOpenAI(\n",
    "            temperature=0,\n",
    "            model_name=\"gpt-35-turbo\",\n",
    "            openai_api_base=BASE_URL,\n",
    "            openai_api_version=\"2023-03-15-preview\",\n",
    "            deployment_name=\"chatgpt0301\",\n",
    "            openai_api_key=API_KEY,\n",
    "            openai_api_type = \"azure\",\n",
    "        )\n",
    "        llm2=AzureOpenAI(temperature=0,deployment_name=\"davinci003\", model_name=\"text-davinci-003\")\n",
    "        memory = ConversationSummaryBufferMemory(llm=llm2, max_token_limit=1000, return_messages=True)\n",
    "        for i in chat_history:\n",
    "            memory.save_context({\"input\": i[0]}, {\"output\": i[1]})\n",
    "        \n",
    "        from langchain.chains import ConversationChain\n",
    "        conversation_with_summary = ConversationChain(\n",
    "            llm=llm2, \n",
    "            memory=memory,\n",
    "            verbose=True\n",
    "        )\n",
    "        bot_message=conversation_with_summary.predict(input=message)\n",
    "        \n",
    "        chat_history.append((message, bot_message))\n",
    "        time.sleep(1)\n",
    "        return \"\", chat_history\n",
    "\n",
    "    msg.submit(respond, [msg, chatbot], [msg, chatbot])\n",
    "    clear.click(lambda: None, None, chatbot, queue=False)\n",
    "\n",
    "demo.launch()\n"
   ]
  },
  {
   "cell_type": "code",
   "execution_count": 27,
   "id": "9a8e293f-21d4-46dc-86d7-c8794700fa42",
   "metadata": {},
   "outputs": [
    {
     "name": "stdout",
     "output_type": "stream",
     "text": [
      "a\n"
     ]
    }
   ],
   "source": []
  },
  {
   "cell_type": "code",
   "execution_count": null,
   "id": "c1b81d4f-963e-4395-a8eb-b06b9106b932",
   "metadata": {},
   "outputs": [],
   "source": []
  }
 ],
 "metadata": {
  "kernelspec": {
   "display_name": "Python 3 (ipykernel)",
   "language": "python",
   "name": "python3"
  },
  "language_info": {
   "codemirror_mode": {
    "name": "ipython",
    "version": 3
   },
   "file_extension": ".py",
   "mimetype": "text/x-python",
   "name": "python",
   "nbconvert_exporter": "python",
   "pygments_lexer": "ipython3",
   "version": "3.10.11"
  }
 },
 "nbformat": 4,
 "nbformat_minor": 5
}
